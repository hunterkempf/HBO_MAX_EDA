{
 "cells": [
  {
   "cell_type": "markdown",
   "metadata": {},
   "source": [
    "# HBO EDA"
   ]
  },
  {
   "cell_type": "code",
   "execution_count": 1,
   "metadata": {},
   "outputs": [],
   "source": [
    "import pandas as pd\n",
    "import numpy as np\n",
    "import matplotlib.pyplot as plt\n",
    "from sklearn.preprocessing import MultiLabelBinarizer"
   ]
  },
  {
   "cell_type": "code",
   "execution_count": 2,
   "metadata": {},
   "outputs": [],
   "source": [
    "folder_path = \"/Users/hunterkempf/Documents/GitHub/Streaming_Wars/\"\n",
    "HBO_Content_DF_Path = 'Medium Data/HBO/HBO_Content.csv'\n",
    "HBO_MAX_Content_DF_Path = 'Medium Data/HBO/HBO_MAX_Content.csv'"
   ]
  },
  {
   "cell_type": "code",
   "execution_count": 3,
   "metadata": {},
   "outputs": [],
   "source": [
    "HBO_df = pd.read_csv(folder_path+HBO_Content_DF_Path)\n",
    "HBO_MAX_df = pd.read_csv(folder_path+HBO_MAX_Content_DF_Path)"
   ]
  },
  {
   "cell_type": "markdown",
   "metadata": {},
   "source": [
    "### Decade Buckets"
   ]
  },
  {
   "cell_type": "code",
   "execution_count": 4,
   "metadata": {},
   "outputs": [],
   "source": [
    "buckets = [1910,1919,1929,1939,1949,1959,1969,1979,1989,1999,2009,2019,2029]\n",
    "decadeLabels = ['1910-1919','1920-1929','1930-1939','1940-1949','1950-1959','1960-1969',\n",
    "                '1970-1979','1980-1989','1990-1999','2000-2009','2010-2019','2020-2029']\n",
    "HBO_MAX_df['decade'] = pd.cut(HBO_MAX_df['year'], bins=buckets,labels=decadeLabels)\n",
    "HBO_df['decade'] = pd.cut(HBO_df['year'], bins=buckets,labels=decadeLabels)"
   ]
  },
  {
   "cell_type": "markdown",
   "metadata": {},
   "source": [
    "### IMDB Score Buckets"
   ]
  },
  {
   "cell_type": "code",
   "execution_count": 5,
   "metadata": {},
   "outputs": [],
   "source": [
    "buckets = [0,5,6,7,7.5,8,8.5,9,9.5,10]\n",
    "scoreLabels = ['0-5.00','5.01-6.00','6.01-7.00','7.01-7.50','7.51-8.00','8.01-8.50',\n",
    "                '8.51-9.00','9.01-9.50','9.51-10']\n",
    "HBO_MAX_df['imdb_bucket'] = pd.cut(HBO_MAX_df['imdb_score'], bins=buckets,labels=scoreLabels)\n",
    "HBO_df['imdb_bucket'] = pd.cut(HBO_df['imdb_score'], bins=buckets,labels=scoreLabels)"
   ]
  },
  {
   "cell_type": "code",
   "execution_count": 6,
   "metadata": {},
   "outputs": [
    {
     "data": {
      "text/html": [
       "<div>\n",
       "<style scoped>\n",
       "    .dataframe tbody tr th:only-of-type {\n",
       "        vertical-align: middle;\n",
       "    }\n",
       "\n",
       "    .dataframe tbody tr th {\n",
       "        vertical-align: top;\n",
       "    }\n",
       "\n",
       "    .dataframe thead th {\n",
       "        text-align: right;\n",
       "    }\n",
       "</style>\n",
       "<table border=\"1\" class=\"dataframe\">\n",
       "  <thead>\n",
       "    <tr style=\"text-align: right;\">\n",
       "      <th></th>\n",
       "      <th>title</th>\n",
       "      <th>type</th>\n",
       "      <th>year</th>\n",
       "      <th>rating</th>\n",
       "      <th>imdb_score</th>\n",
       "      <th>rotten_score</th>\n",
       "      <th>decade</th>\n",
       "      <th>imdb_bucket</th>\n",
       "      <th>genres_Action_Adventure</th>\n",
       "      <th>genres_Animation</th>\n",
       "      <th>...</th>\n",
       "      <th>platforms_hbo_max</th>\n",
       "      <th>platforms_hoopla</th>\n",
       "      <th>platforms_hulu_plus</th>\n",
       "      <th>platforms_kanopy</th>\n",
       "      <th>platforms_netflix</th>\n",
       "      <th>platforms_shoutfactorytv</th>\n",
       "      <th>platforms_sundancenow</th>\n",
       "      <th>platforms_syfy_tveverywhere</th>\n",
       "      <th>platforms_tlc_go</th>\n",
       "      <th>platforms_viceland_tve</th>\n",
       "    </tr>\n",
       "  </thead>\n",
       "  <tbody>\n",
       "    <tr>\n",
       "      <th>0</th>\n",
       "      <td>Game of Thrones</td>\n",
       "      <td>TV</td>\n",
       "      <td>2011</td>\n",
       "      <td>R/TV-MA</td>\n",
       "      <td>9.3</td>\n",
       "      <td>89.0</td>\n",
       "      <td>2010-2019</td>\n",
       "      <td>9.01-9.50</td>\n",
       "      <td>1</td>\n",
       "      <td>0</td>\n",
       "      <td>...</td>\n",
       "      <td>1</td>\n",
       "      <td>0</td>\n",
       "      <td>0</td>\n",
       "      <td>0</td>\n",
       "      <td>0</td>\n",
       "      <td>0</td>\n",
       "      <td>0</td>\n",
       "      <td>0</td>\n",
       "      <td>0</td>\n",
       "      <td>0</td>\n",
       "    </tr>\n",
       "    <tr>\n",
       "      <th>1</th>\n",
       "      <td>Fight Club</td>\n",
       "      <td>NaN</td>\n",
       "      <td>1999</td>\n",
       "      <td>R/TV-MA</td>\n",
       "      <td>8.8</td>\n",
       "      <td>79.0</td>\n",
       "      <td>1990-1999</td>\n",
       "      <td>8.51-9.00</td>\n",
       "      <td>0</td>\n",
       "      <td>0</td>\n",
       "      <td>...</td>\n",
       "      <td>1</td>\n",
       "      <td>0</td>\n",
       "      <td>0</td>\n",
       "      <td>0</td>\n",
       "      <td>0</td>\n",
       "      <td>0</td>\n",
       "      <td>0</td>\n",
       "      <td>0</td>\n",
       "      <td>0</td>\n",
       "      <td>0</td>\n",
       "    </tr>\n",
       "    <tr>\n",
       "      <th>2</th>\n",
       "      <td>Alien</td>\n",
       "      <td>NaN</td>\n",
       "      <td>1979</td>\n",
       "      <td>R/TV-MA</td>\n",
       "      <td>8.4</td>\n",
       "      <td>94.0</td>\n",
       "      <td>1970-1979</td>\n",
       "      <td>8.01-8.50</td>\n",
       "      <td>0</td>\n",
       "      <td>0</td>\n",
       "      <td>...</td>\n",
       "      <td>1</td>\n",
       "      <td>0</td>\n",
       "      <td>0</td>\n",
       "      <td>0</td>\n",
       "      <td>0</td>\n",
       "      <td>0</td>\n",
       "      <td>0</td>\n",
       "      <td>0</td>\n",
       "      <td>0</td>\n",
       "      <td>0</td>\n",
       "    </tr>\n",
       "    <tr>\n",
       "      <th>3</th>\n",
       "      <td>Chernobyl</td>\n",
       "      <td>TV</td>\n",
       "      <td>2019</td>\n",
       "      <td>R/TV-MA</td>\n",
       "      <td>9.4</td>\n",
       "      <td>96.0</td>\n",
       "      <td>2010-2019</td>\n",
       "      <td>9.01-9.50</td>\n",
       "      <td>0</td>\n",
       "      <td>0</td>\n",
       "      <td>...</td>\n",
       "      <td>1</td>\n",
       "      <td>0</td>\n",
       "      <td>0</td>\n",
       "      <td>0</td>\n",
       "      <td>0</td>\n",
       "      <td>0</td>\n",
       "      <td>0</td>\n",
       "      <td>0</td>\n",
       "      <td>0</td>\n",
       "      <td>0</td>\n",
       "    </tr>\n",
       "    <tr>\n",
       "      <th>4</th>\n",
       "      <td>Die Hard</td>\n",
       "      <td>NaN</td>\n",
       "      <td>1988</td>\n",
       "      <td>R/TV-MA</td>\n",
       "      <td>8.2</td>\n",
       "      <td>93.0</td>\n",
       "      <td>1980-1989</td>\n",
       "      <td>8.01-8.50</td>\n",
       "      <td>1</td>\n",
       "      <td>0</td>\n",
       "      <td>...</td>\n",
       "      <td>1</td>\n",
       "      <td>0</td>\n",
       "      <td>0</td>\n",
       "      <td>0</td>\n",
       "      <td>0</td>\n",
       "      <td>0</td>\n",
       "      <td>0</td>\n",
       "      <td>0</td>\n",
       "      <td>0</td>\n",
       "      <td>0</td>\n",
       "    </tr>\n",
       "  </tbody>\n",
       "</table>\n",
       "<p>5 rows × 52 columns</p>\n",
       "</div>"
      ],
      "text/plain": [
       "             title type  year   rating  imdb_score  rotten_score     decade  \\\n",
       "0  Game of Thrones   TV  2011  R/TV-MA         9.3          89.0  2010-2019   \n",
       "1       Fight Club  NaN  1999  R/TV-MA         8.8          79.0  1990-1999   \n",
       "2            Alien  NaN  1979  R/TV-MA         8.4          94.0  1970-1979   \n",
       "3        Chernobyl   TV  2019  R/TV-MA         9.4          96.0  2010-2019   \n",
       "4         Die Hard  NaN  1988  R/TV-MA         8.2          93.0  1980-1989   \n",
       "\n",
       "  imdb_bucket  genres_Action_Adventure  genres_Animation  ...  \\\n",
       "0   9.01-9.50                        1                 0  ...   \n",
       "1   8.51-9.00                        0                 0  ...   \n",
       "2   8.01-8.50                        0                 0  ...   \n",
       "3   9.01-9.50                        0                 0  ...   \n",
       "4   8.01-8.50                        1                 0  ...   \n",
       "\n",
       "   platforms_hbo_max  platforms_hoopla  platforms_hulu_plus  platforms_kanopy  \\\n",
       "0                  1                 0                    0                 0   \n",
       "1                  1                 0                    0                 0   \n",
       "2                  1                 0                    0                 0   \n",
       "3                  1                 0                    0                 0   \n",
       "4                  1                 0                    0                 0   \n",
       "\n",
       "   platforms_netflix  platforms_shoutfactorytv  platforms_sundancenow  \\\n",
       "0                  0                         0                      0   \n",
       "1                  0                         0                      0   \n",
       "2                  0                         0                      0   \n",
       "3                  0                         0                      0   \n",
       "4                  0                         0                      0   \n",
       "\n",
       "   platforms_syfy_tveverywhere  platforms_tlc_go  platforms_viceland_tve  \n",
       "0                            0                 0                       0  \n",
       "1                            0                 0                       0  \n",
       "2                            0                 0                       0  \n",
       "3                            0                 0                       0  \n",
       "4                            0                 0                       0  \n",
       "\n",
       "[5 rows x 52 columns]"
      ]
     },
     "execution_count": 6,
     "metadata": {},
     "output_type": "execute_result"
    }
   ],
   "source": [
    "HBO_df.head()"
   ]
  },
  {
   "cell_type": "code",
   "execution_count": 7,
   "metadata": {},
   "outputs": [
    {
     "data": {
      "text/html": [
       "<div>\n",
       "<style scoped>\n",
       "    .dataframe tbody tr th:only-of-type {\n",
       "        vertical-align: middle;\n",
       "    }\n",
       "\n",
       "    .dataframe tbody tr th {\n",
       "        vertical-align: top;\n",
       "    }\n",
       "\n",
       "    .dataframe thead th {\n",
       "        text-align: right;\n",
       "    }\n",
       "</style>\n",
       "<table border=\"1\" class=\"dataframe\">\n",
       "  <thead>\n",
       "    <tr style=\"text-align: right;\">\n",
       "      <th></th>\n",
       "      <th>title</th>\n",
       "      <th>type</th>\n",
       "      <th>year</th>\n",
       "      <th>rating</th>\n",
       "      <th>imdb_score</th>\n",
       "      <th>rotten_score</th>\n",
       "      <th>decade</th>\n",
       "      <th>imdb_bucket</th>\n",
       "      <th>genres_Action_Adventure</th>\n",
       "      <th>genres_Animation</th>\n",
       "      <th>...</th>\n",
       "      <th>platforms_shudder</th>\n",
       "      <th>platforms_starz</th>\n",
       "      <th>platforms_sundancenow</th>\n",
       "      <th>platforms_syfy_tveverywhere</th>\n",
       "      <th>platforms_tbs</th>\n",
       "      <th>platforms_tnt</th>\n",
       "      <th>platforms_trutv_tveverywhere</th>\n",
       "      <th>platforms_urbanmoviechannel</th>\n",
       "      <th>platforms_velocity_go</th>\n",
       "      <th>platforms_watch_tcm</th>\n",
       "    </tr>\n",
       "  </thead>\n",
       "  <tbody>\n",
       "    <tr>\n",
       "      <th>0</th>\n",
       "      <td>Game of Thrones</td>\n",
       "      <td>TV</td>\n",
       "      <td>2011</td>\n",
       "      <td>R/TV-MA</td>\n",
       "      <td>9.3</td>\n",
       "      <td>89.0</td>\n",
       "      <td>2010-2019</td>\n",
       "      <td>9.01-9.50</td>\n",
       "      <td>1</td>\n",
       "      <td>0</td>\n",
       "      <td>...</td>\n",
       "      <td>0</td>\n",
       "      <td>0</td>\n",
       "      <td>0</td>\n",
       "      <td>0</td>\n",
       "      <td>0</td>\n",
       "      <td>0</td>\n",
       "      <td>0</td>\n",
       "      <td>0</td>\n",
       "      <td>0</td>\n",
       "      <td>0</td>\n",
       "    </tr>\n",
       "    <tr>\n",
       "      <th>1</th>\n",
       "      <td>Rick and Morty</td>\n",
       "      <td>TV</td>\n",
       "      <td>2013</td>\n",
       "      <td>R/TV-MA</td>\n",
       "      <td>9.2</td>\n",
       "      <td>94.0</td>\n",
       "      <td>2010-2019</td>\n",
       "      <td>9.01-9.50</td>\n",
       "      <td>1</td>\n",
       "      <td>1</td>\n",
       "      <td>...</td>\n",
       "      <td>0</td>\n",
       "      <td>0</td>\n",
       "      <td>0</td>\n",
       "      <td>0</td>\n",
       "      <td>0</td>\n",
       "      <td>0</td>\n",
       "      <td>0</td>\n",
       "      <td>0</td>\n",
       "      <td>0</td>\n",
       "      <td>0</td>\n",
       "    </tr>\n",
       "    <tr>\n",
       "      <th>2</th>\n",
       "      <td>The Lord of the Rings: The Fellowship of the Ring</td>\n",
       "      <td>NaN</td>\n",
       "      <td>2001</td>\n",
       "      <td>PG-13/TV-14</td>\n",
       "      <td>8.8</td>\n",
       "      <td>91.0</td>\n",
       "      <td>2000-2009</td>\n",
       "      <td>8.51-9.00</td>\n",
       "      <td>1</td>\n",
       "      <td>0</td>\n",
       "      <td>...</td>\n",
       "      <td>0</td>\n",
       "      <td>0</td>\n",
       "      <td>0</td>\n",
       "      <td>0</td>\n",
       "      <td>0</td>\n",
       "      <td>0</td>\n",
       "      <td>0</td>\n",
       "      <td>0</td>\n",
       "      <td>0</td>\n",
       "      <td>0</td>\n",
       "    </tr>\n",
       "    <tr>\n",
       "      <th>3</th>\n",
       "      <td>Fight Club</td>\n",
       "      <td>NaN</td>\n",
       "      <td>1999</td>\n",
       "      <td>R/TV-MA</td>\n",
       "      <td>8.8</td>\n",
       "      <td>79.0</td>\n",
       "      <td>1990-1999</td>\n",
       "      <td>8.51-9.00</td>\n",
       "      <td>0</td>\n",
       "      <td>0</td>\n",
       "      <td>...</td>\n",
       "      <td>0</td>\n",
       "      <td>0</td>\n",
       "      <td>0</td>\n",
       "      <td>0</td>\n",
       "      <td>0</td>\n",
       "      <td>0</td>\n",
       "      <td>0</td>\n",
       "      <td>0</td>\n",
       "      <td>0</td>\n",
       "      <td>0</td>\n",
       "    </tr>\n",
       "    <tr>\n",
       "      <th>4</th>\n",
       "      <td>The Lord of the Rings: The Two Towers</td>\n",
       "      <td>NaN</td>\n",
       "      <td>2002</td>\n",
       "      <td>PG-13/TV-14</td>\n",
       "      <td>8.7</td>\n",
       "      <td>95.0</td>\n",
       "      <td>2000-2009</td>\n",
       "      <td>8.51-9.00</td>\n",
       "      <td>1</td>\n",
       "      <td>0</td>\n",
       "      <td>...</td>\n",
       "      <td>0</td>\n",
       "      <td>0</td>\n",
       "      <td>0</td>\n",
       "      <td>0</td>\n",
       "      <td>0</td>\n",
       "      <td>0</td>\n",
       "      <td>0</td>\n",
       "      <td>0</td>\n",
       "      <td>0</td>\n",
       "      <td>0</td>\n",
       "    </tr>\n",
       "  </tbody>\n",
       "</table>\n",
       "<p>5 rows × 75 columns</p>\n",
       "</div>"
      ],
      "text/plain": [
       "                                               title type  year       rating  \\\n",
       "0                                    Game of Thrones   TV  2011      R/TV-MA   \n",
       "1                                     Rick and Morty   TV  2013      R/TV-MA   \n",
       "2  The Lord of the Rings: The Fellowship of the Ring  NaN  2001  PG-13/TV-14   \n",
       "3                                         Fight Club  NaN  1999      R/TV-MA   \n",
       "4              The Lord of the Rings: The Two Towers  NaN  2002  PG-13/TV-14   \n",
       "\n",
       "   imdb_score  rotten_score     decade imdb_bucket  genres_Action_Adventure  \\\n",
       "0         9.3          89.0  2010-2019   9.01-9.50                        1   \n",
       "1         9.2          94.0  2010-2019   9.01-9.50                        1   \n",
       "2         8.8          91.0  2000-2009   8.51-9.00                        1   \n",
       "3         8.8          79.0  1990-1999   8.51-9.00                        0   \n",
       "4         8.7          95.0  2000-2009   8.51-9.00                        1   \n",
       "\n",
       "   genres_Animation  ...  platforms_shudder  platforms_starz  \\\n",
       "0                 0  ...                  0                0   \n",
       "1                 1  ...                  0                0   \n",
       "2                 0  ...                  0                0   \n",
       "3                 0  ...                  0                0   \n",
       "4                 0  ...                  0                0   \n",
       "\n",
       "   platforms_sundancenow  platforms_syfy_tveverywhere  platforms_tbs  \\\n",
       "0                      0                            0              0   \n",
       "1                      0                            0              0   \n",
       "2                      0                            0              0   \n",
       "3                      0                            0              0   \n",
       "4                      0                            0              0   \n",
       "\n",
       "   platforms_tnt  platforms_trutv_tveverywhere  platforms_urbanmoviechannel  \\\n",
       "0              0                             0                            0   \n",
       "1              0                             0                            0   \n",
       "2              0                             0                            0   \n",
       "3              0                             0                            0   \n",
       "4              0                             0                            0   \n",
       "\n",
       "   platforms_velocity_go  platforms_watch_tcm  \n",
       "0                      0                    0  \n",
       "1                      0                    0  \n",
       "2                      0                    0  \n",
       "3                      0                    0  \n",
       "4                      0                    0  \n",
       "\n",
       "[5 rows x 75 columns]"
      ]
     },
     "execution_count": 7,
     "metadata": {},
     "output_type": "execute_result"
    }
   ],
   "source": [
    "HBO_MAX_df.head()"
   ]
  },
  {
   "cell_type": "markdown",
   "metadata": {},
   "source": [
    "## Content Type Breakdown Comparison"
   ]
  },
  {
   "cell_type": "code",
   "execution_count": 8,
   "metadata": {},
   "outputs": [],
   "source": [
    "HBO_content_type = HBO_df.type.fillna('Other').value_counts()\n",
    "HBO_MAX_content_type = HBO_MAX_df.type.fillna('Other').value_counts()\n",
    "x = ['HBO', 'HBO MAX']\n",
    "y1 = [HBO_content_type['TV'],HBO_MAX_content_type['TV']]\n",
    "y2 = [HBO_content_type['Other'],HBO_MAX_content_type['Other']]"
   ]
  },
  {
   "cell_type": "code",
   "execution_count": 9,
   "metadata": {},
   "outputs": [
    {
     "name": "stdout",
     "output_type": "stream",
     "text": [
      "HBO MAX has 63.76% more TV shows than HBO\n",
      "HBO MAX has 47.97% more Films than HBO\n"
     ]
    }
   ],
   "source": [
    "TV_perc_change = 100*(y1[1]-y1[0])/y1[0]\n",
    "Film_perc_change = 100*(y2[1]-y2[0])/y2[0]\n",
    "print(\"HBO MAX has {change:.2f}% more TV shows than HBO\".format(change=TV_perc_change))\n",
    "print(\"HBO MAX has {change:.2f}% more Films than HBO\".format(change=Film_perc_change))"
   ]
  },
  {
   "cell_type": "code",
   "execution_count": 10,
   "metadata": {},
   "outputs": [
    {
     "data": {
      "image/png": "[encoded data removed]",
      "text/plain": [
       "<Figure size 576x432 with 1 Axes>"
      ]
     },
     "metadata": {
      "needs_background": "light"
     },
     "output_type": "display_data"
    }
   ],
   "source": [
    "fig, ax = plt.subplots(figsize=(8,6))\n",
    "## Plot Stacked Bar Charts\n",
    "ax.bar(x, y1,color = ['white','#8800ff'],edgecolor = 'black')\n",
    "ax.bar(x, y2 ,bottom=y1,color=[\"black\"],edgecolor = 'black')\n",
    "\n",
    "## Color Legend\n",
    "m1, = ax.plot([], [], c='white' , marker='s', markersize=20,\n",
    "              fillstyle='left', linestyle='none',markeredgecolor='black')\n",
    "m2, = ax.plot([], [], c='#8800ff' , marker='s', markersize=20,\n",
    "              fillstyle='right', linestyle='none')\n",
    "m3, = ax.plot([], [], c='black' , marker='s', markersize=20,\n",
    "              fillstyle='full', linestyle='none')\n",
    "ax.text(x[1], y1[1]/2, \"+ {change:.2f}%\".format(change=TV_perc_change), \n",
    "        ha=\"center\", va=\"center\",color='white',fontsize=14)\n",
    "ax.text(x[1], y1[1]+y2[1]/2, \"+ {change:.2f}%\".format(change=Film_perc_change), \n",
    "        ha=\"center\", va=\"center\",color='white',fontsize=14)\n",
    "\n",
    "leg = ax.legend((m3,(m2, m1)),('Film/TV Movie','TV Series'), bbox_to_anchor=(1.01,.6), numpoints=1, \n",
    "                labelspacing=1,fontsize=16,edgecolor='none')\n",
    "leg.set_title('Content Type',prop={'size':20})\n",
    "ax.set_ylabel('Count')\n",
    "plt.show()"
   ]
  },
  {
   "cell_type": "markdown",
   "metadata": {},
   "source": [
    "## Rating Comparison"
   ]
  },
  {
   "cell_type": "code",
   "execution_count": 11,
   "metadata": {},
   "outputs": [],
   "source": [
    "HBO_content_rating = HBO_df.rating.value_counts()\n",
    "HBO_MAX_content_rating = HBO_MAX_df.rating.value_counts()\n",
    "ratings = ['G/TV-G', 'PG/TV-PG','PG-13/TV-14','R/TV-MA']\n",
    "HBO=[]\n",
    "HBO_MAX=[]\n",
    "perc_change=[]\n",
    "for rating in ratings:\n",
    "    HBO.append(HBO_content_rating[rating])\n",
    "    HBO_MAX.append(HBO_MAX_content_rating[rating])\n",
    "    perc_change.append(100*(HBO_MAX_content_rating[rating]-HBO_content_rating[rating])/HBO_content_rating[rating])\n"
   ]
  },
  {
   "cell_type": "code",
   "execution_count": 12,
   "metadata": {},
   "outputs": [
    {
     "data": {
      "image/png": "[encoded data removed]",
      "text/plain": [
       "<Figure size 864x648 with 1 Axes>"
      ]
     },
     "metadata": {
      "needs_background": "light"
     },
     "output_type": "display_data"
    }
   ],
   "source": [
    "# Numbers of pairs of bars\n",
    "N = 4\n",
    "# Position of bars on x-axis\n",
    "ind = np.arange(N)\n",
    "\n",
    "# Initialize Figure\n",
    "fig, ax = plt.subplots(figsize=(12,9))\n",
    "ax.set_facecolor('white')\n",
    "\n",
    "# Width of a bar \n",
    "width = 0.45       \n",
    "\n",
    "# Plotting HBO and HBO MAX series\n",
    "ax.bar(ind, HBO , width, label='HBO',color='black')\n",
    "ax.bar(ind + width, HBO_MAX, width, label='HBO MAX',color='#8800ff')\n",
    "\n",
    "ax.set_xlabel('Content Rating')\n",
    "ax.set_ylabel('Count')\n",
    "\n",
    "ax.set_xticks(ind + width / 2)\n",
    "ax.set_xticklabels(ratings)\n",
    "\n",
    "# Add Text \n",
    "ax.text(ind[0] + width, HBO_MAX[0]/2, \"+{change:.0f}%\".format(change=perc_change[0]), \n",
    "        ha=\"center\", va=\"center\",color='white',fontsize=14)\n",
    "ax.text(ind[1] + width, HBO_MAX[1]/2, \"+{change:.0f}%\".format(change=perc_change[1]), \n",
    "        ha=\"center\", va=\"center\",color='white',fontsize=14)\n",
    "ax.text(ind[2] + width, HBO_MAX[2]/2, \"+{change:.0f}%\".format(change=perc_change[2]), \n",
    "        ha=\"center\", va=\"center\",color='white',fontsize=14)\n",
    "ax.text(ind[3] + width, HBO_MAX[3]/2, \"+{change:.0f}%\".format(change=perc_change[3]), \n",
    "        ha=\"center\", va=\"center\",color='white',fontsize=14)\n",
    "\n",
    "\n",
    "# Finding the best position for legends and putting it\n",
    "ax.legend(loc='best')\n",
    "plt.show()"
   ]
  },
  {
   "cell_type": "markdown",
   "metadata": {},
   "source": [
    "## Decade Made Comparison"
   ]
  },
  {
   "cell_type": "code",
   "execution_count": 13,
   "metadata": {},
   "outputs": [],
   "source": [
    "HBO_content_decade = HBO_df.decade.value_counts()\n",
    "HBO_MAX_content_decade = HBO_MAX_df.decade.value_counts()\n",
    "decadeLabels = ['1910s','1920s','1930s','1940s','1950s','1960s',\n",
    "                '1970s','1980s','1990s','2000s','2010s','2020s']\n",
    "decades = range(len(decadeLabels))\n",
    "HBO=[]\n",
    "HBO_MAX=[]\n",
    "perc_change=[]\n",
    "for decade in decades:\n",
    "    HBO.append(HBO_content_decade[decade])\n",
    "    HBO_MAX.append(HBO_MAX_content_decade[decade])\n",
    "    if HBO_content_decade[decade] != 0:\n",
    "        perc_change.append(100*(HBO_MAX_content_decade[decade]-HBO_content_decade[decade])/HBO_content_decade[decade])\n",
    "    else:\n",
    "        perc_change.append(np.nan)"
   ]
  },
  {
   "cell_type": "code",
   "execution_count": 14,
   "metadata": {},
   "outputs": [
    {
     "data": {
      "image/png": "[encoded data removed]",
      "text/plain": [
       "<Figure size 864x648 with 1 Axes>"
      ]
     },
     "metadata": {
      "needs_background": "light"
     },
     "output_type": "display_data"
    }
   ],
   "source": [
    "# Numbers of pairs of bars\n",
    "N = 12\n",
    "# Position of bars on x-axis\n",
    "ind = np.arange(N)\n",
    "\n",
    "# Initialize Figure\n",
    "fig, ax = plt.subplots(figsize=(12,9))\n",
    "ax.set_facecolor('white')\n",
    "\n",
    "# Width of a bar \n",
    "width = 0.45       \n",
    "\n",
    "# Plotting HBO and HBO MAX series\n",
    "ax.bar(ind, HBO , width, label='HBO',color='black')\n",
    "ax.bar(ind + width, HBO_MAX, width, label='HBO MAX',color='#8800ff')\n",
    "\n",
    "ax.set_xlabel('Decade Produced*\\n*First Year Used for Series')\n",
    "ax.set_ylabel('Count')\n",
    "\n",
    "ax.set_xticks(ind + width / 2)\n",
    "ax.set_xticklabels(decadeLabels)\n",
    "\n",
    "# Finding the best position for legends and putting it\n",
    "ax.legend(loc='upper left')\n",
    "plt.show()"
   ]
  },
  {
   "cell_type": "markdown",
   "metadata": {},
   "source": [
    "## IMDB Score Analysis"
   ]
  },
  {
   "cell_type": "code",
   "execution_count": 15,
   "metadata": {},
   "outputs": [
    {
     "name": "stdout",
     "output_type": "stream",
     "text": [
      "Average IMDB Score of HBO Content: 6.79\n",
      "Average IMDB Score of HBO MAX Content: 6.94\n"
     ]
    }
   ],
   "source": [
    "print(\"Average IMDB Score of HBO Content: {0:.2f}\".format(HBO_df.imdb_score.mean()))\n",
    "print(\"Average IMDB Score of HBO MAX Content: {0:.2f}\".format(HBO_MAX_df.imdb_score.mean()))"
   ]
  },
  {
   "cell_type": "code",
   "execution_count": 16,
   "metadata": {},
   "outputs": [],
   "source": [
    "HBO_imdb_bucket = HBO_df.imdb_bucket.value_counts()\n",
    "HBO_MAX_imdb_bucket = HBO_MAX_df.imdb_bucket.value_counts()\n",
    "scoreLabels = ['0-5.00','5.01-6.00','6.01-7.00','7.01-7.50','7.51-8.00','8.01-8.50',\n",
    "                '8.51-9.00','9.01-9.50','9.51-10']\n",
    "buckets = range(len(scoreLabels))\n",
    "HBO=[]\n",
    "HBO_MAX=[]\n",
    "perc_change=[]\n",
    "for bucket in buckets:\n",
    "    HBO.append(HBO_imdb_bucket[bucket])\n",
    "    HBO_MAX.append(HBO_MAX_imdb_bucket[bucket])\n",
    "    if HBO_imdb_bucket[bucket] != 0:\n",
    "        perc_change.append(100*(HBO_MAX_imdb_bucket[bucket]-HBO_imdb_bucket[bucket])/HBO_imdb_bucket[bucket])\n",
    "    else:\n",
    "        perc_change.append(np.nan)"
   ]
  },
  {
   "cell_type": "code",
   "execution_count": 17,
   "metadata": {},
   "outputs": [
    {
     "data": {
      "image/png": "[encoded data removed]",
      "text/plain": [
       "<Figure size 792x648 with 1 Axes>"
      ]
     },
     "metadata": {
      "needs_background": "light"
     },
     "output_type": "display_data"
    }
   ],
   "source": [
    "# Numbers of pairs of bars\n",
    "N = len(scoreLabels)\n",
    "# Position of bars on x-axis\n",
    "ind = np.arange(N)\n",
    "\n",
    "# Initialize Figure\n",
    "fig, ax = plt.subplots(figsize=(11,9))\n",
    "ax.set_facecolor('white')\n",
    "\n",
    "# Width of a bar \n",
    "width = 0.45       \n",
    "\n",
    "# Plotting HBO and HBO MAX series\n",
    "ax.bar(ind, HBO , width, label='HBO',color='black')\n",
    "ax.bar(ind + width, HBO_MAX, width, label='HBO MAX',color='#8800ff')\n",
    "\n",
    "ax.set_xlabel('IMDB Score')\n",
    "ax.set_ylabel('Count')\n",
    "\n",
    "ax.set_xticks(ind + width / 2)\n",
    "ax.set_xticklabels(scoreLabels)\n",
    "\n",
    "# Add Text \n",
    "ax.text(ind[0] + width, HBO_MAX[0]/2, \"+{change:.0f}%\".format(change=perc_change[0]), \n",
    "        ha=\"center\", va=\"center\",color='white',fontsize=12,rotation='vertical')\n",
    "ax.text(ind[1] + width, HBO_MAX[1]/2, \"+{change:.0f}%\".format(change=perc_change[1]), \n",
    "        ha=\"center\", va=\"center\",color='white',fontsize=12,rotation='vertical')\n",
    "ax.text(ind[2] + width, HBO_MAX[2]/2, \"+{change:.0f}%\".format(change=perc_change[2]), \n",
    "        ha=\"center\", va=\"center\",color='white',fontsize=12,rotation='vertical')\n",
    "ax.text(ind[3] + width, HBO_MAX[3]/2, \"+{change:.0f}%\".format(change=perc_change[3]), \n",
    "        ha=\"center\", va=\"center\",color='white',fontsize=12,rotation='vertical')\n",
    "ax.text(ind[4] + width, HBO_MAX[4]/2, \"+{change:.0f}%\".format(change=perc_change[4]), \n",
    "        ha=\"center\", va=\"center\",color='white',fontsize=12,rotation='vertical')\n",
    "ax.text(ind[5] + width, HBO_MAX[5]/2, \"+{change:.0f}%\".format(change=perc_change[5]), \n",
    "        ha=\"center\", va=\"center\",color='white',fontsize=12,rotation='vertical')\n",
    "ax.text(ind[6] + width, HBO_MAX[6]/2, \"+{change:.0f}%\".format(change=perc_change[6]), \n",
    "        ha=\"center\", va=\"center\",color='white',fontsize=10,rotation='vertical')\n",
    "\n",
    "# Finding the best position for legends and putting it\n",
    "ax.legend(loc='upper left')\n",
    "plt.show()"
   ]
  },
  {
   "cell_type": "markdown",
   "metadata": {},
   "source": [
    "## Rotten Tomatoes Score Analysis"
   ]
  },
  {
   "cell_type": "code",
   "execution_count": 18,
   "metadata": {},
   "outputs": [],
   "source": [
    "HBO_scores = HBO_df['rotten_score'].dropna()\n",
    "HBO_scores = HBO_scores.astype(float)/100\n",
    "HBO_MAX_scores = HBO_MAX_df['rotten_score'].dropna()\n",
    "HBO_MAX_scores = HBO_MAX_scores.astype(float)/100\n",
    "scoreLabels = ['0-10%','11-20%','21-30%','31-40%','41-50%','51-60%','61-70%','71-75%','76-80%','81-85%',\n",
    "                '86-90%','91-95%','96-100%']\n",
    "buckets = [0,0.1,0.2,0.3,0.4,0.5,0.6,0.7,0.75,0.8,0.85,0.9,0.95,1]\n",
    "HBO_buckets = pd.cut(HBO_scores, bins=buckets,labels=scoreLabels)\n",
    "HBO_MAX_buckets = pd.cut(HBO_MAX_scores, bins=buckets,labels=scoreLabels)"
   ]
  },
  {
   "cell_type": "code",
   "execution_count": 19,
   "metadata": {},
   "outputs": [
    {
     "name": "stdout",
     "output_type": "stream",
     "text": [
      "Average RT Score of HBO Content: 0.68\n",
      "Average RT Score of HBO MAX Content: 0.73\n"
     ]
    }
   ],
   "source": [
    "print(\"Average RT Score of HBO Content: {0:.2f}\".format(HBO_scores.mean()))\n",
    "print(\"Average RT Score of HBO MAX Content: {0:.2f}\".format(HBO_MAX_scores.mean()))"
   ]
  },
  {
   "cell_type": "code",
   "execution_count": 20,
   "metadata": {},
   "outputs": [],
   "source": [
    "HBO_imdb_bucket = HBO_buckets.value_counts()\n",
    "HBO_MAX_imdb_bucket = HBO_MAX_buckets.value_counts()\n",
    "\n",
    "buckets = range(len(scoreLabels))\n",
    "HBO=[]\n",
    "HBO_MAX=[]\n",
    "perc_change=[]\n",
    "for bucket in buckets:\n",
    "    HBO.append(HBO_imdb_bucket[bucket])\n",
    "    HBO_MAX.append(HBO_MAX_imdb_bucket[bucket])\n",
    "    if HBO_imdb_bucket[bucket] != 0:\n",
    "        perc_change.append(100*(HBO_MAX_imdb_bucket[bucket]-HBO_imdb_bucket[bucket])/HBO_imdb_bucket[bucket])\n",
    "    else:\n",
    "        perc_change.append(np.nan)"
   ]
  },
  {
   "cell_type": "code",
   "execution_count": 21,
   "metadata": {},
   "outputs": [
    {
     "data": {
      "image/png": "[encoded data removed]",
      "text/plain": [
       "<Figure size 720x1008 with 1 Axes>"
      ]
     },
     "metadata": {
      "needs_background": "light"
     },
     "output_type": "display_data"
    }
   ],
   "source": [
    "# Numbers of pairs of bars\n",
    "N = len(scoreLabels)\n",
    "# Position of bars on x-axis\n",
    "ind = np.arange(N)\n",
    "\n",
    "# Initialize Figure\n",
    "fig, ax = plt.subplots(figsize=(10,14))\n",
    "ax.set_facecolor('white')\n",
    "\n",
    "# Width of a bar \n",
    "width = 0.45       \n",
    "\n",
    "# Plotting HBO and HBO MAX series\n",
    "ax.barh(ind, HBO , width, label='HBO',color='black')\n",
    "ax.barh(ind + width, HBO_MAX, width, label='HBO MAX',color='#8800ff')\n",
    "\n",
    "ax.set_ylabel('Rotten Tomatoes Critic Score')\n",
    "ax.set_xlabel('Count')\n",
    "\n",
    "ax.set_yticks(ind + width / 2)\n",
    "ax.set_yticklabels(scoreLabels)\n",
    "\n",
    "# Add % increase Text \n",
    "for i in range(N):\n",
    "    ax.text(HBO_MAX[i]/2, ind[i] + width, \"+{change:.0f}%\".format(change=perc_change[i]), \n",
    "        ha=\"center\", va=\"center\",color='white',fontsize=12)\n",
    "\n",
    "# Finding the best position for legends and putting it\n",
    "ax.legend(loc='best')\n",
    "plt.show()"
   ]
  },
  {
   "cell_type": "markdown",
   "metadata": {},
   "source": [
    "## Genre Analysis\n",
    "The data we have is in the form of a list inside of a string. We want these to become binary features."
   ]
  },
  {
   "cell_type": "code",
   "execution_count": 22,
   "metadata": {},
   "outputs": [],
   "source": [
    "# Select Genre Columns\n",
    "genre_cols = [col for col in HBO_df.columns if 'genre' in col]\n",
    "# Create a pandas.DataFrame from our output\n",
    "HBO_expandedGenres = HBO_df[genre_cols]\n",
    "HBO_Genre_Counts = HBO_expandedGenres.sum()"
   ]
  },
  {
   "cell_type": "code",
   "execution_count": 23,
   "metadata": {},
   "outputs": [],
   "source": [
    "# Select Genre Columns\n",
    "genre_cols = [col for col in HBO_MAX_df.columns if 'genre' in col]\n",
    "# Create a pandas.DataFrame from our output\n",
    "HBO_MAX_expandedGenres = HBO_MAX_df[genre_cols]\n",
    "HBO_MAX_Genre_Counts = HBO_MAX_expandedGenres.sum()"
   ]
  },
  {
   "cell_type": "code",
   "execution_count": 24,
   "metadata": {},
   "outputs": [],
   "source": [
    "genre_list = list(set(HBO_Genre_Counts.index.tolist()).union(set(HBO_MAX_Genre_Counts.index.tolist())))\n",
    "HBO = []\n",
    "for genre in genre_list:\n",
    "    try:\n",
    "        HBO.append(HBO_Genre_Counts[genre])\n",
    "    except:\n",
    "        HBO.append(0)\n",
    "# I want an ordered list so I am going to redo the ordering with the HBO Content values\n",
    "genre_list_ordered = pd.Series(HBO,index=genre_list).sort_values().index.tolist()\n",
    "HBO = []\n",
    "HBO_MAX = []\n",
    "for genre in genre_list_ordered:\n",
    "    try:\n",
    "        HBO.append(HBO_Genre_Counts[genre])\n",
    "    except:\n",
    "        HBO.append(0)\n",
    "    try:\n",
    "        HBO_MAX.append(HBO_MAX_Genre_Counts[genre])\n",
    "    except:\n",
    "        HBO_MAX.append(0)\n",
    "## Strip out the ugly genres_ from the list\n",
    "genre_list_ordered = [genre[7:] for genre in genre_list_ordered]"
   ]
  },
  {
   "cell_type": "code",
   "execution_count": 25,
   "metadata": {},
   "outputs": [
    {
     "data": {
      "image/png": "[encoded data removed]",
      "text/plain": [
       "<Figure size 648x1008 with 1 Axes>"
      ]
     },
     "metadata": {
      "needs_background": "light"
     },
     "output_type": "display_data"
    }
   ],
   "source": [
    "# Numbers of pairs of bars\n",
    "N = len(genre_list_ordered)\n",
    "# Position of bars on y-axis\n",
    "ind = np.arange(N)\n",
    "\n",
    "# Initialize Figure\n",
    "fig, ax = plt.subplots(figsize=(9,14))\n",
    "ax.set_facecolor('white')\n",
    "\n",
    "# Width of a bar \n",
    "width = 0.45       \n",
    "\n",
    "# Plotting HBO and HBO MAX series\n",
    "ax.barh(ind, HBO, width, label='HBO',color='black')\n",
    "ax.barh(ind + width, HBO_MAX, width, label='HBO MAX',color='#8800ff')\n",
    "\n",
    "# Set Axis labels, ticks and limits\n",
    "ax.set_xlabel('Count')\n",
    "ax.set_ylabel('Genre')\n",
    "ax.set_yticks(ind + width / 2)\n",
    "ax.set_yticklabels(genre_list_ordered)\n",
    "ax.set_ylim(0,N)\n",
    "\n",
    "# Finding the best position for legends and putting it\n",
    "ax.legend(loc='right')\n",
    "plt.show()"
   ]
  },
  {
   "cell_type": "code",
   "execution_count": null,
   "metadata": {},
   "outputs": [],
   "source": []
  }
 ],
 "metadata": {
  "kernelspec": {
   "display_name": "Python 3",
   "language": "python",
   "name": "python3"
  },
  "language_info": {
   "codemirror_mode": {
    "name": "ipython",
    "version": 3
   },
   "file_extension": ".py",
   "mimetype": "text/x-python",
   "name": "python",
   "nbconvert_exporter": "python",
   "pygments_lexer": "ipython3",
   "version": "3.7.6"
  }
 },
 "nbformat": 4,
 "nbformat_minor": 4
}
